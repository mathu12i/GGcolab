{
  "nbformat": 4,
  "nbformat_minor": 0,
  "metadata": {
    "colab": {
      "provenance": [],
      "authorship_tag": "ABX9TyPuwdJBB3CMQBKbm1C+ZHl2",
      "include_colab_link": true
    },
    "kernelspec": {
      "name": "python3",
      "display_name": "Python 3"
    },
    "language_info": {
      "name": "python"
    }
  },
  "cells": [
    {
      "cell_type": "markdown",
      "metadata": {
        "id": "view-in-github",
        "colab_type": "text"
      },
      "source": [
        "<a href=\"https://colab.research.google.com/github/mathu12i/GGcolab/blob/main/PythonGGcolab.ipynb\" target=\"_parent\"><img src=\"https://colab.research.google.com/assets/colab-badge.svg\" alt=\"Open In Colab\"/></a>"
      ]
    },
    {
      "cell_type": "code",
      "execution_count": null,
      "metadata": {
        "colab": {
          "base_uri": "https://localhost:8080/"
        },
        "id": "ahz4JxEr-2aT",
        "outputId": "bbfaba42-62d4-493d-9e1f-51f0068384ad"
      },
      "outputs": [
        {
          "output_type": "stream",
          "name": "stdout",
          "text": [
            "Hello World!\n"
          ]
        }
      ],
      "source": [
        "print(\"Hello World!\")"
      ]
    },
    {
      "cell_type": "code",
      "source": [
        "print('single quote')"
      ],
      "metadata": {
        "colab": {
          "base_uri": "https://localhost:8080/"
        },
        "id": "glX6lRQc_mnd",
        "outputId": "0d884cfa-4e9e-49fa-d124-a26e2a6a49bc"
      },
      "execution_count": null,
      "outputs": [
        {
          "output_type": "stream",
          "name": "stdout",
          "text": [
            "single quote\n"
          ]
        }
      ]
    },
    {
      "cell_type": "markdown",
      "source": [
        "**Print: การแสดงผล**\n",
        "\n",
        "ถ้าเป็น String จะต้องอยู่ในเครื่องหมาย \"\" หรือ '' เสมอ สามารถต่อหลาย String ได้ด้วยเครื่องหมาย +"
      ],
      "metadata": {
        "id": "AayhuP64__06"
      }
    },
    {
      "cell_type": "code",
      "source": [
        "print(\"Hello\" + \"World\")\n",
        "print(\"Hello\" + \"\" + \"World\")\n",
        "print(\"Hello\", \"World\", \"!\", \"R2DE\")"
      ],
      "metadata": {
        "colab": {
          "base_uri": "https://localhost:8080/"
        },
        "id": "AAtaOWPrAKIU",
        "outputId": "31a9c303-6170-4e7f-9add-5b7eacb386a7"
      },
      "execution_count": null,
      "outputs": [
        {
          "output_type": "stream",
          "name": "stdout",
          "text": [
            "HelloWorld\n",
            "HelloWorld\n",
            "Hello World ! R2DE\n"
          ]
        }
      ]
    },
    {
      "cell_type": "markdown",
      "source": [
        "# ประเภทตัวแปร"
      ],
      "metadata": {
        "id": "nLE-LDfvBT97"
      }
    },
    {
      "cell_type": "code",
      "source": [
        "# int คือจำนวนเต็ม\n",
        "a = 1\n",
        "print(a)"
      ],
      "metadata": {
        "colab": {
          "base_uri": "https://localhost:8080/"
        },
        "id": "C5M-S0GYBkd4",
        "outputId": "7844ccb3-3fc0-42fa-b59f-4164345a7d91"
      },
      "execution_count": null,
      "outputs": [
        {
          "output_type": "stream",
          "name": "stdout",
          "text": [
            "1\n"
          ]
        }
      ]
    },
    {
      "cell_type": "code",
      "source": [
        "b = \"Python\""
      ],
      "metadata": {
        "id": "Ks0nEneuFnLe"
      },
      "execution_count": null,
      "outputs": []
    },
    {
      "cell_type": "markdown",
      "source": [
        "**การใช้คอมเม้นในโค้ด**\n",
        "\n",
        "ใช้ #"
      ],
      "metadata": {
        "id": "BckgC7PABwgE"
      }
    },
    {
      "cell_type": "code",
      "source": [
        "# float คือทศนิยม\n",
        "float(a)"
      ],
      "metadata": {
        "colab": {
          "base_uri": "https://localhost:8080/"
        },
        "id": "pbbOEK_ZB8Gg",
        "outputId": "5bfb0c2a-c5ee-4d5e-868f-476d7b6379e1"
      },
      "execution_count": null,
      "outputs": [
        {
          "output_type": "execute_result",
          "data": {
            "text/plain": [
              "1.0"
            ]
          },
          "metadata": {},
          "execution_count": 56
        }
      ]
    },
    {
      "cell_type": "code",
      "source": [
        "#String คือข้อความ\n",
        "#สามารถแปลงตัวเลขใ้หเป็นสตริงได้ด้วย str(ตัวแปร)\n",
        "str(a)"
      ],
      "metadata": {
        "colab": {
          "base_uri": "https://localhost:8080/",
          "height": 36
        },
        "id": "eRV43BYvCVl0",
        "outputId": "0aebf58a-0a7a-4b39-b6bc-dcb71b83265e"
      },
      "execution_count": null,
      "outputs": [
        {
          "output_type": "execute_result",
          "data": {
            "text/plain": [
              "'1'"
            ],
            "application/vnd.google.colaboratory.intrinsic+json": {
              "type": "string"
            }
          },
          "metadata": {},
          "execution_count": 57
        }
      ]
    },
    {
      "cell_type": "markdown",
      "source": [
        "การบวก string คอืการนำ string สองอันมาต่อกัน (append)"
      ],
      "metadata": {
        "id": "9G5v91hVCmEY"
      }
    },
    {
      "cell_type": "code",
      "source": [
        "str(a) + \"1\""
      ],
      "metadata": {
        "colab": {
          "base_uri": "https://localhost:8080/",
          "height": 36
        },
        "id": "PmtZ3D2yDFbu",
        "outputId": "60312122-55da-412d-b399-1a60031c04be"
      },
      "execution_count": null,
      "outputs": [
        {
          "output_type": "execute_result",
          "data": {
            "text/plain": [
              "'11'"
            ],
            "application/vnd.google.colaboratory.intrinsic+json": {
              "type": "string"
            }
          },
          "metadata": {},
          "execution_count": 58
        }
      ]
    },
    {
      "cell_type": "code",
      "source": [
        "print(1+2+3)"
      ],
      "metadata": {
        "colab": {
          "base_uri": "https://localhost:8080/"
        },
        "id": "0gulmV-NDJFo",
        "outputId": "b1ab9c83-4f36-4beb-8daa-6227e7a8494f"
      },
      "execution_count": null,
      "outputs": [
        {
          "output_type": "stream",
          "name": "stdout",
          "text": [
            "6\n"
          ]
        }
      ]
    },
    {
      "cell_type": "markdown",
      "source": [
        "bool(Boolean) เป็นข้อมูลประเภทค่าความจริง True/False\n",
        "\n",
        "ถ้าตัวแปรที่จะแปลง ไม่ว่างเปล่า จะได้ค่า True"
      ],
      "metadata": {
        "id": "DCKAAbLZDORK"
      }
    },
    {
      "cell_type": "code",
      "source": [
        "a"
      ],
      "metadata": {
        "colab": {
          "base_uri": "https://localhost:8080/"
        },
        "id": "iBW3ZDECDhnl",
        "outputId": "58e7867a-9866-4b8a-95fe-daa73fd705f5"
      },
      "execution_count": null,
      "outputs": [
        {
          "output_type": "execute_result",
          "data": {
            "text/plain": [
              "1"
            ]
          },
          "metadata": {},
          "execution_count": 60
        }
      ]
    },
    {
      "cell_type": "code",
      "source": [
        "bool(a)"
      ],
      "metadata": {
        "colab": {
          "base_uri": "https://localhost:8080/"
        },
        "id": "6N6npRBfDoQh",
        "outputId": "46e1b38d-d6cd-4d1e-a678-ecfe5c134258"
      },
      "execution_count": null,
      "outputs": [
        {
          "output_type": "execute_result",
          "data": {
            "text/plain": [
              "True"
            ]
          },
          "metadata": {},
          "execution_count": 61
        }
      ]
    },
    {
      "cell_type": "markdown",
      "source": [
        "ถ้าตัวแปรไม่มีค่า (มีค่าเป็น None) จะได้ False"
      ],
      "metadata": {
        "id": "9ipUM69SDroF"
      }
    },
    {
      "cell_type": "code",
      "source": [
        "bool(None)"
      ],
      "metadata": {
        "colab": {
          "base_uri": "https://localhost:8080/"
        },
        "id": "vUDx4tnMDztO",
        "outputId": "eee23081-259b-4a39-d9d5-90c4f613371a"
      },
      "execution_count": null,
      "outputs": [
        {
          "output_type": "execute_result",
          "data": {
            "text/plain": [
              "False"
            ]
          },
          "metadata": {},
          "execution_count": 62
        }
      ]
    },
    {
      "cell_type": "markdown",
      "source": [],
      "metadata": {
        "id": "eSZs5mtTFrVS"
      }
    },
    {
      "cell_type": "markdown",
      "source": [
        "**คำสั่ง type()**\n",
        "\n",
        "เป็นคำสั่งที่ใช้ในการตรวจสอบประเภท[ข้อความลิงก์]"
      ],
      "metadata": {
        "id": "IdFjehzCD8c4"
      }
    },
    {
      "cell_type": "code",
      "source": [
        "type(a)"
      ],
      "metadata": {
        "colab": {
          "base_uri": "https://localhost:8080/"
        },
        "id": "0B4dPEMXEFIX",
        "outputId": "650516ff-ee49-4896-a75e-a8cbeb153769"
      },
      "execution_count": null,
      "outputs": [
        {
          "output_type": "execute_result",
          "data": {
            "text/plain": [
              "int"
            ]
          },
          "metadata": {},
          "execution_count": 63
        }
      ]
    },
    {
      "cell_type": "markdown",
      "source": [
        "ถ้าไม่สามารถแปลงประเภทตัวแปรได้จะขึ้นว่า ValueError\n",
        "\n",
        "เช่น ไม่สามารถแปลง string"
      ],
      "metadata": {
        "id": "8tiAZMOdER2k"
      }
    },
    {
      "cell_type": "markdown",
      "source": [
        "# Python Data Structures\n",
        "\n"
      ],
      "metadata": {
        "id": "qDSt6O-eEjTd"
      }
    },
    {
      "cell_type": "markdown",
      "source": [
        "# List\n",
        "\n",
        "list เป็น data structure ที่ไว้เก็บข้อมูลเป็นลำดับ เหมือน array คือ จะเก็บข้อมูลไว้เป็นช่อง โดยจะมี index (หมายเลขประจำช่อง) เริ่มต้นที่ 0 และสามารถเพิ่มเติม (append) หรือแก้ไขข้อมูลใน list ได้ (mutable) ใช้สัญลักษณ์ [ ] แทน list"
      ],
      "metadata": {
        "id": "ffDksRQVEuf8"
      }
    },
    {
      "cell_type": "code",
      "source": [
        "print(a, type(a))\n",
        "print(b, type(b))"
      ],
      "metadata": {
        "colab": {
          "base_uri": "https://localhost:8080/"
        },
        "id": "xPTfhKsuE0uh",
        "outputId": "a62e5d0e-60c9-4bc8-b859-3634ef8bc2a0"
      },
      "execution_count": null,
      "outputs": [
        {
          "output_type": "stream",
          "name": "stdout",
          "text": [
            "1 <class 'int'>\n",
            "Python <class 'str'>\n"
          ]
        }
      ]
    },
    {
      "cell_type": "markdown",
      "source": [
        "การสร้าง list สร้างโดยใช้เครื่องหมาย [ ]"
      ],
      "metadata": {
        "id": "zSoKR95CFGhI"
      }
    },
    {
      "cell_type": "code",
      "source": [
        "empty_list = []\n",
        "print(empty_list)"
      ],
      "metadata": {
        "colab": {
          "base_uri": "https://localhost:8080/"
        },
        "id": "yGQUVM7aFNAl",
        "outputId": "0a02d6cf-27b0-416e-9fdb-c9a00a32df79"
      },
      "execution_count": null,
      "outputs": [
        {
          "output_type": "stream",
          "name": "stdout",
          "text": [
            "[]\n"
          ]
        }
      ]
    },
    {
      "cell_type": "markdown",
      "source": [
        "การสร้าง list จากตัวแปรที่สร้างขึ้น"
      ],
      "metadata": {
        "id": "AbC8gi4CFVwj"
      }
    },
    {
      "cell_type": "code",
      "source": [
        "l = [b, a, a+1, a+2]\n",
        "l"
      ],
      "metadata": {
        "colab": {
          "base_uri": "https://localhost:8080/"
        },
        "id": "ospJy3fBFa-x",
        "outputId": "3aff4f18-88e1-4997-abd8-af575890acda"
      },
      "execution_count": null,
      "outputs": [
        {
          "output_type": "execute_result",
          "data": {
            "text/plain": [
              "['Python', 1, 2, 3]"
            ]
          },
          "metadata": {},
          "execution_count": 73
        }
      ]
    },
    {
      "cell_type": "markdown",
      "source": [
        "การดูสมาชิก (length) ใน list"
      ],
      "metadata": {
        "id": "So0lMQNXF3QV"
      }
    },
    {
      "cell_type": "code",
      "source": [
        "len(l)"
      ],
      "metadata": {
        "colab": {
          "base_uri": "https://localhost:8080/"
        },
        "id": "q7VnZxMEF7I1",
        "outputId": "a5d4d3f0-ca99-4f53-cf16-f7b520909730"
      },
      "execution_count": null,
      "outputs": [
        {
          "output_type": "execute_result",
          "data": {
            "text/plain": [
              "4"
            ]
          },
          "metadata": {},
          "execution_count": 67
        }
      ]
    },
    {
      "cell_type": "markdown",
      "source": [
        "การเรียกดูค่า list ในเฉพาะบางช่อง"
      ],
      "metadata": {
        "id": "1PllnjHrF-c9"
      }
    },
    {
      "cell_type": "code",
      "source": [
        "l[3]"
      ],
      "metadata": {
        "colab": {
          "base_uri": "https://localhost:8080/"
        },
        "id": "dfCE7Kn_GEc5",
        "outputId": "bf214fa1-28b8-4a00-ec24-815cad627698"
      },
      "execution_count": null,
      "outputs": [
        {
          "output_type": "execute_result",
          "data": {
            "text/plain": [
              "3"
            ]
          },
          "metadata": {},
          "execution_count": 68
        }
      ]
    },
    {
      "cell_type": "markdown",
      "source": [
        "การเปลี่ยนแปลงค่า (assign) ค่า ในสมาชิกของ list"
      ],
      "metadata": {
        "id": "_dvjKLhzGJ9f"
      }
    },
    {
      "cell_type": "code",
      "source": [
        "l[3] = 5\n",
        "l"
      ],
      "metadata": {
        "colab": {
          "base_uri": "https://localhost:8080/"
        },
        "id": "s-33Nro5GRfP",
        "outputId": "f23726eb-9ad4-4a6f-b063-141305c4fdba"
      },
      "execution_count": null,
      "outputs": [
        {
          "output_type": "execute_result",
          "data": {
            "text/plain": [
              "['Python', 1, 2, 5]"
            ]
          },
          "metadata": {},
          "execution_count": 72
        }
      ]
    },
    {
      "cell_type": "code",
      "source": [
        "#IndexError\n",
        "l[4] = \":0\""
      ],
      "metadata": {
        "colab": {
          "base_uri": "https://localhost:8080/",
          "height": 158
        },
        "id": "4ea_leEtGxYF",
        "outputId": "926b0e3c-6e10-4ab7-e89a-2a039121d7ed"
      },
      "execution_count": null,
      "outputs": [
        {
          "output_type": "error",
          "ename": "IndexError",
          "evalue": "list assignment index out of range",
          "traceback": [
            "\u001b[0;31m---------------------------------------------------------------------------\u001b[0m",
            "\u001b[0;31mIndexError\u001b[0m                                Traceback (most recent call last)",
            "\u001b[0;32m<ipython-input-71-767bc441d6d3>\u001b[0m in \u001b[0;36m<cell line: 2>\u001b[0;34m()\u001b[0m\n\u001b[1;32m      1\u001b[0m \u001b[0;31m#IndexError\u001b[0m\u001b[0;34m\u001b[0m\u001b[0;34m\u001b[0m\u001b[0m\n\u001b[0;32m----> 2\u001b[0;31m \u001b[0ml\u001b[0m\u001b[0;34m[\u001b[0m\u001b[0;36m4\u001b[0m\u001b[0;34m]\u001b[0m \u001b[0;34m=\u001b[0m \u001b[0;34m\":0\"\u001b[0m\u001b[0;34m\u001b[0m\u001b[0;34m\u001b[0m\u001b[0m\n\u001b[0m",
            "\u001b[0;31mIndexError\u001b[0m: list assignment index out of range"
          ]
        }
      ]
    },
    {
      "cell_type": "markdown",
      "source": [
        "ลองดูการเปลี่ยนแปลงของ list"
      ],
      "metadata": {
        "id": "yX2LzHg3G-jH"
      }
    },
    {
      "cell_type": "code",
      "source": [
        "l"
      ],
      "metadata": {
        "colab": {
          "base_uri": "https://localhost:8080/"
        },
        "id": "zWjkgySNHCPX",
        "outputId": "6ca22ddb-4da6-4b19-f6c7-b9c07e5faa06"
      },
      "execution_count": null,
      "outputs": [
        {
          "output_type": "execute_result",
          "data": {
            "text/plain": [
              "['Python', 1, 2, 3]"
            ]
          },
          "metadata": {},
          "execution_count": 74
        }
      ]
    },
    {
      "cell_type": "markdown",
      "source": [
        "การเพิ่มสมาชิกของ list ต่อท้าย ใช้คำสั่ง append"
      ],
      "metadata": {
        "id": "s5Em0Yy1HFOs"
      }
    },
    {
      "cell_type": "code",
      "source": [
        "l.append(\":)\")\n",
        "l"
      ],
      "metadata": {
        "colab": {
          "base_uri": "https://localhost:8080/"
        },
        "id": "_ZimdM8CHSMt",
        "outputId": "e53ee595-4c7c-419e-8212-42e154074435"
      },
      "execution_count": null,
      "outputs": [
        {
          "output_type": "execute_result",
          "data": {
            "text/plain": [
              "['Python', 1, 2, 3, ':)']"
            ]
          },
          "metadata": {},
          "execution_count": 75
        }
      ]
    },
    {
      "cell_type": "markdown",
      "source": [
        "คำสั่ง pop( ) คือการ remove สมาชิกตัวสุดท้ายของ list"
      ],
      "metadata": {
        "id": "_4aVBUINHYCV"
      }
    },
    {
      "cell_type": "code",
      "source": [
        "l.pop()\n",
        "l"
      ],
      "metadata": {
        "colab": {
          "base_uri": "https://localhost:8080/"
        },
        "id": "9fTTHS_0HhpD",
        "outputId": "46da5c9e-6e94-4c1c-f4a8-c0cdb479c2a2"
      },
      "execution_count": null,
      "outputs": [
        {
          "output_type": "execute_result",
          "data": {
            "text/plain": [
              "['Python', 1, 2, 3]"
            ]
          },
          "metadata": {},
          "execution_count": 76
        }
      ]
    },
    {
      "cell_type": "markdown",
      "source": [
        "# Tuple\n",
        "\n",
        "Tuple เป็น data structure ที่ไว้เก็บข้อมูลเป็นลำดับ (คล้ายกับ list) โดยจะมี index เริ่มต้นที่ 0 เช่นกัน แต่\n",
        "\n",
        "*ไม่สามารถแก้ไข* เปลี่ยนแปลงข้อมูลได้ (immutable) ใช้สัญลักษณ์ ( ) แทน tuple ในการสร้าง"
      ],
      "metadata": {
        "id": "RMVUxQxlHmeV"
      }
    },
    {
      "cell_type": "markdown",
      "source": [
        "เนื้อหา\n",
        "\n"
      ],
      "metadata": {
        "id": "z3LW1Oq6HzOb"
      }
    },
    {
      "cell_type": "code",
      "source": [
        "t = (0, 1, 2, 3, 4)"
      ],
      "metadata": {
        "id": "RxCh0VLrHtfu"
      },
      "execution_count": null,
      "outputs": []
    },
    {
      "cell_type": "code",
      "source": [
        "len(t)"
      ],
      "metadata": {
        "colab": {
          "base_uri": "https://localhost:8080/"
        },
        "id": "7CiEIgCaIC6u",
        "outputId": "9e2642e2-fec6-4bdc-c931-c6cac8f8b0e0"
      },
      "execution_count": null,
      "outputs": [
        {
          "output_type": "execute_result",
          "data": {
            "text/plain": [
              "5"
            ]
          },
          "metadata": {},
          "execution_count": 3
        }
      ]
    },
    {
      "cell_type": "code",
      "source": [
        "t[0:3]"
      ],
      "metadata": {
        "colab": {
          "base_uri": "https://localhost:8080/"
        },
        "id": "XjfKepDPIHJD",
        "outputId": "84b25045-7813-4018-f3e7-cc39db2a1a7d"
      },
      "execution_count": null,
      "outputs": [
        {
          "output_type": "execute_result",
          "data": {
            "text/plain": [
              "(0, 1, 2)"
            ]
          },
          "metadata": {},
          "execution_count": 4
        }
      ]
    },
    {
      "cell_type": "markdown",
      "source": [
        "# การใช้เลข index (สำหรับ list, tuple และ string)\n",
        "\n",
        "ใน list, tuple, string สามารถใช้เลข index เพื่อเข้าถึงสมาชิกได้ โดย index จะเริ่มต้น 0 และถึง len( ) - 1 สามารถอ้างอิงเป็นช่วง ได้ด้วยเครื่องหมาย : (colon) โดยช่วงจะเริ่มจาก index ตัวแรกถึง index ตัวสุดท้ายในช่วง - 1 (ถ้าเว้นไว้คือถึงตัวสุดท้าย) และ*สามารถใช้เลข index ติดลบแทนการนับจากด้านหลังได้*\n",
        "\n",
        "![Screenshot 2024-12-24 192828.png](data:image/png;base64,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)\n",
        "\n",
        "การเข้าถึง ข้อมูลตัวสุดท้ายของ tuple"
      ],
      "metadata": {
        "id": "LO8TBjuTIe5Y"
      }
    },
    {
      "cell_type": "code",
      "source": [
        "t[-1]"
      ],
      "metadata": {
        "colab": {
          "base_uri": "https://localhost:8080/"
        },
        "id": "rxJ_FqkrIupG",
        "outputId": "9454ddcc-de1b-43af-f7fc-f67ba08d25e4"
      },
      "execution_count": null,
      "outputs": [
        {
          "output_type": "execute_result",
          "data": {
            "text/plain": [
              "4"
            ]
          },
          "metadata": {},
          "execution_count": 80
        }
      ]
    },
    {
      "cell_type": "markdown",
      "source": [
        "การเข้าถึงข้อมูล ตัวที่ 3 จากท้ายสุด จนถึงตัวสุดท้าย"
      ],
      "metadata": {
        "id": "gIwLXz2QqVrT"
      }
    },
    {
      "cell_type": "code",
      "source": [
        "t[-3:]"
      ],
      "metadata": {
        "colab": {
          "base_uri": "https://localhost:8080/"
        },
        "id": "YZIb5OkvIy4Z",
        "outputId": "0bd2618e-2c0b-4806-c6b2-29bfd6ed2b9e"
      },
      "execution_count": null,
      "outputs": [
        {
          "output_type": "execute_result",
          "data": {
            "text/plain": [
              "(2, 3, 4)"
            ]
          },
          "metadata": {},
          "execution_count": 81
        }
      ]
    },
    {
      "cell_type": "markdown",
      "source": [
        "การเข้าถึงข้อมูล ตัวแรกสุดจนถึงตัวก่อนตำแหน่งที่ 3"
      ],
      "metadata": {
        "id": "I6StWzq6qevJ"
      }
    },
    {
      "cell_type": "code",
      "source": [
        "t[:-3]"
      ],
      "metadata": {
        "colab": {
          "base_uri": "https://localhost:8080/"
        },
        "id": "4askmiRwI4Xf",
        "outputId": "c7b7f0ab-d9a9-450c-be18-747a41111943"
      },
      "execution_count": null,
      "outputs": [
        {
          "output_type": "execute_result",
          "data": {
            "text/plain": [
              "(0, 1)"
            ]
          },
          "metadata": {},
          "execution_count": 82
        }
      ]
    },
    {
      "cell_type": "markdown",
      "source": [
        "tuple เป็น data structure immutable คือ ไม่สามารถเปลี่ยนแปลงค่าได้ ถ้าพยายามเปลี่ยนค่าของ tuple จะwfh TypeError"
      ],
      "metadata": {
        "id": "9_eejg0rJqJ2"
      }
    },
    {
      "cell_type": "code",
      "source": [
        "# TypeError ไม่สามารถแก้ไข tuple ได้\n",
        "t[4] = 5"
      ],
      "metadata": {
        "colab": {
          "base_uri": "https://localhost:8080/",
          "height": 158
        },
        "id": "plkhEiC4KR78",
        "outputId": "79a520ab-453a-4a7f-af70-1a9c0f101ce2"
      },
      "execution_count": null,
      "outputs": [
        {
          "output_type": "error",
          "ename": "TypeError",
          "evalue": "'tuple' object does not support item assignment",
          "traceback": [
            "\u001b[0;31m---------------------------------------------------------------------------\u001b[0m",
            "\u001b[0;31mTypeError\u001b[0m                                 Traceback (most recent call last)",
            "\u001b[0;32m<ipython-input-83-02e20aa8d645>\u001b[0m in \u001b[0;36m<cell line: 2>\u001b[0;34m()\u001b[0m\n\u001b[1;32m      1\u001b[0m \u001b[0;31m# TypeError ไม่สามารถแก้ไข tuple ได้\u001b[0m\u001b[0;34m\u001b[0m\u001b[0;34m\u001b[0m\u001b[0m\n\u001b[0;32m----> 2\u001b[0;31m \u001b[0mt\u001b[0m\u001b[0;34m[\u001b[0m\u001b[0;36m4\u001b[0m\u001b[0;34m]\u001b[0m \u001b[0;34m=\u001b[0m \u001b[0;36m5\u001b[0m\u001b[0;34m\u001b[0m\u001b[0;34m\u001b[0m\u001b[0m\n\u001b[0m",
            "\u001b[0;31mTypeError\u001b[0m: 'tuple' object does not support item assignment"
          ]
        }
      ]
    },
    {
      "cell_type": "markdown",
      "source": [
        "# Dictionary\n",
        "\n",
        "เป็น Data structure ที่เก็บในลักษณะ key - value ใช้สัญลักษณ์ {} แทน dictionary ในการสร้าง\n",
        "\n",
        "เช่น dict = {\"key' : \"value\"} หรือ\n",
        "\n",
        "dict = { } เพื่อสร้าง dict เปล่า"
      ],
      "metadata": {
        "id": "iNb7Np7KKjmM"
      }
    },
    {
      "cell_type": "markdown",
      "source": [
        "การสร้าง grade dictionary สำหรับการตัดเกรด"
      ],
      "metadata": {
        "id": "vzqKqb3GLfYH"
      }
    },
    {
      "cell_type": "code",
      "source": [
        "grade = {\n",
        "    \"A\" : 80,\n",
        "    \"B\" : 70,\n",
        "    \"C\" : 60,\n",
        "    \"D\" : 50,\n",
        "}\n",
        "grade"
      ],
      "metadata": {
        "colab": {
          "base_uri": "https://localhost:8080/"
        },
        "id": "e336eNzVLmJI",
        "outputId": "7216145d-c874-4f1b-e1e6-5d2d72a20e61"
      },
      "execution_count": null,
      "outputs": [
        {
          "output_type": "execute_result",
          "data": {
            "text/plain": [
              "{'A': 80, 'B': 70, 'C': 60, 'D': 50}"
            ]
          },
          "metadata": {},
          "execution_count": 84
        }
      ]
    },
    {
      "cell_type": "code",
      "source": [
        "grade[\"A\"]"
      ],
      "metadata": {
        "colab": {
          "base_uri": "https://localhost:8080/"
        },
        "id": "9XGToRN1L9X2",
        "outputId": "0ea6059e-905f-4fff-ad09-647c9ec03464"
      },
      "execution_count": null,
      "outputs": [
        {
          "output_type": "execute_result",
          "data": {
            "text/plain": [
              "80"
            ]
          },
          "metadata": {},
          "execution_count": 85
        }
      ]
    },
    {
      "cell_type": "code",
      "source": [
        "grade[\"B+\"] = 75\n",
        "grade"
      ],
      "metadata": {
        "colab": {
          "base_uri": "https://localhost:8080/"
        },
        "id": "4tYxcvl1MAa2",
        "outputId": "c6232212-c9c0-4fa4-fd14-587e652c1009"
      },
      "execution_count": null,
      "outputs": [
        {
          "output_type": "execute_result",
          "data": {
            "text/plain": [
              "{'A': 80, 'B': 70, 'C': 60, 'D': 50, 'B+': 75}"
            ]
          },
          "metadata": {},
          "execution_count": 86
        }
      ]
    },
    {
      "cell_type": "markdown",
      "source": [
        "การสร้าง dictionary ว่าง และเพิ่มหรืออัปเดตค่า key-value"
      ],
      "metadata": {
        "id": "YBoZCMT8ML10"
      }
    },
    {
      "cell_type": "code",
      "source": [
        "d = {}\n",
        "d[\"s001\"] = \"Perth\"\n",
        "d[\"s002\"] = \"Fon\""
      ],
      "metadata": {
        "id": "wyXX0tUEMlj9"
      },
      "execution_count": null,
      "outputs": []
    },
    {
      "cell_type": "code",
      "source": [
        "d[\"s001\"]"
      ],
      "metadata": {
        "colab": {
          "base_uri": "https://localhost:8080/",
          "height": 36
        },
        "id": "1UmEFMjkMzne",
        "outputId": "2b7ce12f-21ae-4aad-98ff-edde20afc194"
      },
      "execution_count": null,
      "outputs": [
        {
          "output_type": "execute_result",
          "data": {
            "text/plain": [
              "'Perth'"
            ],
            "application/vnd.google.colaboratory.intrinsic+json": {
              "type": "string"
            }
          },
          "metadata": {},
          "execution_count": 88
        }
      ]
    },
    {
      "cell_type": "markdown",
      "source": [
        "# Python String\n",
        "\n",
        "string สำหรับเก็บตัวแปรประเภทข้อความ สามารถเข้าถึงด้วย index ได้เหมือนกับ list สามารถเชื่อมต่อหลาย ๆ string ด้วยเครื่องหมาย + หรือ join()\n",
        "\n",
        "ในกรณีที่เป็น list และมีฟังก์ชั่นอื่น ๆ ที่เกี่ยวกับ string อีกมากมาย เช่น\n",
        "\n",
        "\n",
        "*   split() การแยก string ด้วย symbol ผลลัพธ์ของการรันจะออกมาเป็น list\n",
        "*   strip() การลบช่องว่างที่อยู่หน้าหรือหลังสุด\n",
        "\n"
      ],
      "metadata": {
        "id": "8MFTiWXFM6bI"
      }
    },
    {
      "cell_type": "code",
      "source": [
        "sentence = \" Hello Python. I am ready \""
      ],
      "metadata": {
        "id": "5-FZ7z6QODrI"
      },
      "execution_count": null,
      "outputs": []
    },
    {
      "cell_type": "markdown",
      "source": [
        "string จะคล้ายคลึงกับ list ตรงที่สามารถดูค่าตาม index ที่ระบุตำแหน่งได้"
      ],
      "metadata": {
        "id": "vEFLPfPHOSbT"
      }
    },
    {
      "cell_type": "code",
      "source": [
        "sentence[1]"
      ],
      "metadata": {
        "colab": {
          "base_uri": "https://localhost:8080/",
          "height": 36
        },
        "id": "sEJ-cYyWObiQ",
        "outputId": "feaf390e-46ae-4215-d7d2-9cc6f5d47c49"
      },
      "execution_count": null,
      "outputs": [
        {
          "output_type": "execute_result",
          "data": {
            "text/plain": [
              "'H'"
            ],
            "application/vnd.google.colaboratory.intrinsic+json": {
              "type": "string"
            }
          },
          "metadata": {},
          "execution_count": 90
        }
      ]
    },
    {
      "cell_type": "markdown",
      "source": [
        "การตัดบางช่วงของ string โดยใช้เครื่องหมาย : ควบคู่กับ index ดังนี้ เริ่มต้น:ตัวสุดท้าย+1"
      ],
      "metadata": {
        "id": "owtCfzq3OhW0"
      }
    },
    {
      "cell_type": "code",
      "source": [
        "sentence[1:13]"
      ],
      "metadata": {
        "colab": {
          "base_uri": "https://localhost:8080/",
          "height": 36
        },
        "id": "Ux5JUOiIOyuf",
        "outputId": "f0d5bcf8-f7f0-4a3c-92c9-36146b85b940"
      },
      "execution_count": null,
      "outputs": [
        {
          "output_type": "execute_result",
          "data": {
            "text/plain": [
              "'Hello Python'"
            ],
            "application/vnd.google.colaboratory.intrinsic+json": {
              "type": "string"
            }
          },
          "metadata": {},
          "execution_count": 91
        }
      ]
    },
    {
      "cell_type": "markdown",
      "source": [
        "strip คือการลบช่องว่าง หัวท้าย"
      ],
      "metadata": {
        "id": "tREiglegO8qA"
      }
    },
    {
      "cell_type": "code",
      "source": [
        "sentence.strip()"
      ],
      "metadata": {
        "colab": {
          "base_uri": "https://localhost:8080/",
          "height": 36
        },
        "id": "-_onpuCPPCXF",
        "outputId": "131ea653-a669-423e-b666-212bb1f62121"
      },
      "execution_count": null,
      "outputs": [
        {
          "output_type": "execute_result",
          "data": {
            "text/plain": [
              "'Hello Python. I am ready'"
            ],
            "application/vnd.google.colaboratory.intrinsic+json": {
              "type": "string"
            }
          },
          "metadata": {},
          "execution_count": 92
        }
      ]
    },
    {
      "cell_type": "code",
      "source": [
        "list_of_words = sentence.strip().split(' ') #split(' ') คือการเว้นวรรค"
      ],
      "metadata": {
        "id": "YhCDMc63PJbg"
      },
      "execution_count": null,
      "outputs": []
    },
    {
      "cell_type": "code",
      "source": [
        "corgi = ' '.join(list_of_words)\n",
        "corgi"
      ],
      "metadata": {
        "colab": {
          "base_uri": "https://localhost:8080/",
          "height": 36
        },
        "id": "txY790k5PuGn",
        "outputId": "ec36ca19-75d9-4882-e250-f313e130296d"
      },
      "execution_count": null,
      "outputs": [
        {
          "output_type": "execute_result",
          "data": {
            "text/plain": [
              "'Hello Python. I am ready'"
            ],
            "application/vnd.google.colaboratory.intrinsic+json": {
              "type": "string"
            }
          },
          "metadata": {},
          "execution_count": 94
        }
      ]
    },
    {
      "cell_type": "markdown",
      "source": [
        "# For loop\n",
        "\n",
        "ในภาษา python สามารถวน for loop ตามสมาชิกแต่ละตัวใน object ที่มีลักษณะเป็น list ได้ โดยการรวม loop\n",
        "\n",
        "มีการใช้งานดังนี้\n",
        "\n",
        "\n",
        "\n",
        "```\n",
        "for  temp_var in list_or_range:\n",
        "     do_something1()\n",
        "     do_something2()\n",
        "```\n",
        "สังเกตว่าบรรทัดหลังจาก for จะมีการ tab (เว้น 4 สรรค) อยู่ด้านหน้า เพื่อเป็นการจัด scope ของ for loop นั้น\n",
        "\n"
      ],
      "metadata": {
        "id": "EbcoEA3zvKsS"
      }
    },
    {
      "cell_type": "code",
      "source": [
        "# ทบทวนตัวแปร l ตัวเดิม\n",
        "l"
      ],
      "metadata": {
        "colab": {
          "base_uri": "https://localhost:8080/"
        },
        "id": "pQNrv41cwAtd",
        "outputId": "d6e577f6-fe35-4a9c-ba68-a8c75fa8c315"
      },
      "execution_count": null,
      "outputs": [
        {
          "output_type": "execute_result",
          "data": {
            "text/plain": [
              "['Python', 1, 2, 3]"
            ]
          },
          "metadata": {},
          "execution_count": 95
        }
      ]
    },
    {
      "cell_type": "code",
      "source": [
        "for item in l:\n",
        "  print(item)"
      ],
      "metadata": {
        "colab": {
          "base_uri": "https://localhost:8080/"
        },
        "id": "Hojkwd4Oxs7e",
        "outputId": "ad218a7a-9d22-4c4b-c6c2-7514d3dc7d1f"
      },
      "execution_count": null,
      "outputs": [
        {
          "output_type": "stream",
          "name": "stdout",
          "text": [
            "Python\n",
            "1\n",
            "2\n",
            "3\n"
          ]
        }
      ]
    },
    {
      "cell_type": "code",
      "source": [
        "for i in range(10):\n",
        "  print(i)"
      ],
      "metadata": {
        "colab": {
          "base_uri": "https://localhost:8080/"
        },
        "id": "-Iu46Htlx8ot",
        "outputId": "04c2fa70-7601-4d2f-ce58-a0be8d7bd8fa"
      },
      "execution_count": null,
      "outputs": [
        {
          "output_type": "stream",
          "name": "stdout",
          "text": [
            "0\n",
            "1\n",
            "2\n",
            "3\n",
            "4\n",
            "5\n",
            "6\n",
            "7\n",
            "8\n",
            "9\n"
          ]
        }
      ]
    },
    {
      "cell_type": "markdown",
      "source": [
        "# List Comprehension\n",
        "การวน for loop เพื่อที่จะได้ output ออกมาเป็น list สามารถวนลูปไปในสมาชิกแต่ละตัว ได้ภายใน 1 บรรทัด (แบบย่อ) เทคนิคนี้เรียกว่า List Comprehension"
      ],
      "metadata": {
        "id": "1ih_O5zqo5TY"
      }
    },
    {
      "cell_type": "code",
      "source": [
        "# List Comprehension\n",
        "list_t = [i for i in t]\n"
      ],
      "metadata": {
        "id": "rIswdMrypd8j"
      },
      "execution_count": null,
      "outputs": []
    },
    {
      "cell_type": "code",
      "source": [
        "[i + 1 for i in range(100)]"
      ],
      "metadata": {
        "colab": {
          "base_uri": "https://localhost:8080/"
        },
        "id": "7MgKc58SrAsH",
        "outputId": "e399720d-dff0-4e85-8b04-ed3c146c1299"
      },
      "execution_count": null,
      "outputs": [
        {
          "output_type": "execute_result",
          "data": {
            "text/plain": [
              "[1,\n",
              " 2,\n",
              " 3,\n",
              " 4,\n",
              " 5,\n",
              " 6,\n",
              " 7,\n",
              " 8,\n",
              " 9,\n",
              " 10,\n",
              " 11,\n",
              " 12,\n",
              " 13,\n",
              " 14,\n",
              " 15,\n",
              " 16,\n",
              " 17,\n",
              " 18,\n",
              " 19,\n",
              " 20,\n",
              " 21,\n",
              " 22,\n",
              " 23,\n",
              " 24,\n",
              " 25,\n",
              " 26,\n",
              " 27,\n",
              " 28,\n",
              " 29,\n",
              " 30,\n",
              " 31,\n",
              " 32,\n",
              " 33,\n",
              " 34,\n",
              " 35,\n",
              " 36,\n",
              " 37,\n",
              " 38,\n",
              " 39,\n",
              " 40,\n",
              " 41,\n",
              " 42,\n",
              " 43,\n",
              " 44,\n",
              " 45,\n",
              " 46,\n",
              " 47,\n",
              " 48,\n",
              " 49,\n",
              " 50,\n",
              " 51,\n",
              " 52,\n",
              " 53,\n",
              " 54,\n",
              " 55,\n",
              " 56,\n",
              " 57,\n",
              " 58,\n",
              " 59,\n",
              " 60,\n",
              " 61,\n",
              " 62,\n",
              " 63,\n",
              " 64,\n",
              " 65,\n",
              " 66,\n",
              " 67,\n",
              " 68,\n",
              " 69,\n",
              " 70,\n",
              " 71,\n",
              " 72,\n",
              " 73,\n",
              " 74,\n",
              " 75,\n",
              " 76,\n",
              " 77,\n",
              " 78,\n",
              " 79,\n",
              " 80,\n",
              " 81,\n",
              " 82,\n",
              " 83,\n",
              " 84,\n",
              " 85,\n",
              " 86,\n",
              " 87,\n",
              " 88,\n",
              " 89,\n",
              " 90,\n",
              " 91,\n",
              " 92,\n",
              " 93,\n",
              " 94,\n",
              " 95,\n",
              " 96,\n",
              " 97,\n",
              " 98,\n",
              " 99,\n",
              " 100]"
            ]
          },
          "metadata": {},
          "execution_count": 99
        }
      ]
    },
    {
      "cell_type": "markdown",
      "source": [
        "# If condition"
      ],
      "metadata": {
        "id": "llssVrserMaC"
      }
    },
    {
      "cell_type": "markdown",
      "source": [
        "If condition จะทำตามเงื่อนไขต่อเมื่อเป็นจริงเท่านั้น\n",
        "\n",
        "elif (else if) คือ เงื่อนไขรอง หาก if แรกไม่เป็นจริง มีกี่อันก็ได้\n",
        "\n",
        "ถ้าไม่ตรงกรณีไหนเลยจะทำ else (else if และ else สามารถไม่มีก็ได้)"
      ],
      "metadata": {
        "id": "HNEdUTC0rTEg"
      }
    },
    {
      "cell_type": "code",
      "source": [
        "if len(t) == 5:\n",
        "  print(\"Length is 5\")\n",
        "else:\n",
        "  print(\"Length not 5\")"
      ],
      "metadata": {
        "colab": {
          "base_uri": "https://localhost:8080/"
        },
        "id": "4yQvqBTRsanf",
        "outputId": "36dfaa09-ffe4-43f8-c117-1886e91bd57b"
      },
      "execution_count": null,
      "outputs": [
        {
          "output_type": "stream",
          "name": "stdout",
          "text": [
            "Length is 5\n"
          ]
        }
      ]
    },
    {
      "cell_type": "code",
      "source": [
        "# ทบทวนตัวแปร grade ตัวเดิม\n",
        "grade"
      ],
      "metadata": {
        "colab": {
          "base_uri": "https://localhost:8080/"
        },
        "id": "iUqbdD7bs59t",
        "outputId": "bc6e21b0-d105-4165-ea28-3c479eeb9aed"
      },
      "execution_count": null,
      "outputs": [
        {
          "output_type": "execute_result",
          "data": {
            "text/plain": [
              "{'A': 80, 'B': 70, 'C': 60, 'D': 50, 'B+': 75}"
            ]
          },
          "metadata": {},
          "execution_count": 101
        }
      ]
    },
    {
      "cell_type": "code",
      "source": [
        "score = 75\n",
        "if score >= grade[\"A\"]:\n",
        "  print(\"Grade is A\")\n",
        "  print(\"Good job!\")\n",
        "elif score >= grade[\"B+\"]:\n",
        "  print(\"Grade is B+\")\n",
        "elif score >= grade[\"B\"]:\n",
        "  print(\"Grade is B\")\n",
        "elif score >= grade[\"C\"]:\n",
        "  print(\"Grade is C\")\n",
        "elif score >= grade[\"D\"]:\n",
        "  print(\"Grade is D\")\n",
        "else:\n",
        "  print(\"Grade is F\")"
      ],
      "metadata": {
        "colab": {
          "base_uri": "https://localhost:8080/"
        },
        "id": "JWUpblM7tIJs",
        "outputId": "957032f2-6655-4c52-cff5-9de263c9793d"
      },
      "execution_count": null,
      "outputs": [
        {
          "output_type": "stream",
          "name": "stdout",
          "text": [
            "Grade is B+\n"
          ]
        }
      ]
    },
    {
      "cell_type": "markdown",
      "source": [
        "# Python Packages\n",
        "Python Packages คือ การรวบรวม function อื่น ๆ เพิ่มเติมให้สามารถเรียกใช้ได้ มีสองประเภท ได้แก่\n",
        "\n",
        "  1. Builti-in คือ package ที่มาจาก Python สามารถเรียกใช้ได้เลยโดยไม่ต้อง install เพิ่มเติม\n",
        "  2. 3rd party package คือ package อื่น ๆ ที่ถูกพัฒนาเพื่อให้ใช้และติ้ตั้งได้ฟรี สามารถ install ได้ผ่าน pip ซึ่งเป็น ตัวจัดการ package ของ python คำสั่งในการ install คือ pip install [ชื่อ package]\n",
        "\n",
        "บางครั้ง package ก็เรียกว่าเป็น libary ได้เหมือนกัน"
      ],
      "metadata": {
        "id": "xaxz__cpS_fd"
      }
    },
    {
      "cell_type": "markdown",
      "source": [
        "มาลอง Hello World! กันด้วยการ import กัน"
      ],
      "metadata": {
        "id": "yP1JSpAOUqES"
      }
    },
    {
      "cell_type": "code",
      "source": [
        "import __hello__"
      ],
      "metadata": {
        "colab": {
          "base_uri": "https://localhost:8080/"
        },
        "id": "R1hF6bshUzNu",
        "outputId": "8d8da9f5-d93b-4f1b-df3b-91d0cba9bb41"
      },
      "execution_count": null,
      "outputs": [
        {
          "output_type": "stream",
          "name": "stdout",
          "text": [
            "Hello world!\n"
          ]
        }
      ]
    },
    {
      "cell_type": "markdown",
      "source": [
        "# Math\n",
        "package สำหรับคำนวณตัวเลข เช่น Log, Exponential และเรียกใช้คำสำคัญทางคณิตศาสตร์ เช่น Pi"
      ],
      "metadata": {
        "id": "PqOldUqGH2Bv"
      }
    },
    {
      "cell_type": "code",
      "source": [
        "import math\n",
        "\n",
        "math.pi"
      ],
      "metadata": {
        "colab": {
          "base_uri": "https://localhost:8080/"
        },
        "id": "nJqfv_lNH4tn",
        "outputId": "026b04e5-8856-423f-9574-3313892d116b"
      },
      "execution_count": null,
      "outputs": [
        {
          "output_type": "execute_result",
          "data": {
            "text/plain": [
              "3.141592653589793"
            ]
          },
          "metadata": {},
          "execution_count": 8
        }
      ]
    },
    {
      "cell_type": "markdown",
      "source": [
        "นอกจากการ import แบบตรง สามารถ import เฉพาะตัวแปร หรือ function ได้เช่นกัน โดยใช้ from [ชื่อ package] import [ชื่อ function หรือ ตัวแปรที่ต้องการ import]"
      ],
      "metadata": {
        "id": "LeT9prXvIhHz"
      }
    },
    {
      "cell_type": "code",
      "source": [
        "from math import pi\n",
        "\n",
        "pi"
      ],
      "metadata": {
        "colab": {
          "base_uri": "https://localhost:8080/"
        },
        "id": "FkXX-NoUIoat",
        "outputId": "7f53d5ab-ffda-4bff-b145-6a83b4f17bc9"
      },
      "execution_count": null,
      "outputs": [
        {
          "output_type": "execute_result",
          "data": {
            "text/plain": [
              "3.141592653589793"
            ]
          },
          "metadata": {},
          "execution_count": 9
        }
      ]
    },
    {
      "cell_type": "markdown",
      "source": [
        "# Datetime\n",
        "Datetime เป็น Package สำหรับจัดการข้อมูลวันเวลา เช่น เวลาในแต่ละ Timezone, ดึงวันเวลาในวันนี้ โดยทั่วไป เวลามักจะเป็นเวลา UTC (Universal Time Coordinated) คือเป็นเวลาตามเวลามาตรฐานโลก ไม่อิงตาม timezone เวลาประเทศไทย จะเป็นเวลาที่เรียกว่า Indochina Time (ICT) คือ เป็นเวลา UTC + 7 ชั่วโมง"
      ],
      "metadata": {
        "id": "iBMpofCbIx2S"
      }
    },
    {
      "cell_type": "code",
      "source": [
        "?datetime"
      ],
      "metadata": {
        "id": "ky944yqMI-y3",
        "colab": {
          "base_uri": "https://localhost:8080/"
        },
        "outputId": "69acf7b5-a9d3-4009-e9d1-1b4fa8515d9e"
      },
      "execution_count": null,
      "outputs": [
        {
          "output_type": "stream",
          "name": "stdout",
          "text": [
            "Object `datetime` not found.\n"
          ]
        }
      ]
    },
    {
      "cell_type": "code",
      "source": [
        "import datetime\n",
        "\n",
        "now = datetime.datetime.now()\n",
        "now"
      ],
      "metadata": {
        "colab": {
          "base_uri": "https://localhost:8080/"
        },
        "id": "q8-NGxSBJFDq",
        "outputId": "903b5697-81ab-4479-b800-db31d2d72cc5"
      },
      "execution_count": null,
      "outputs": [
        {
          "output_type": "execute_result",
          "data": {
            "text/plain": [
              "datetime.datetime(2025, 1, 18, 12, 18, 5, 595970)"
            ]
          },
          "metadata": {},
          "execution_count": 13
        }
      ]
    },
    {
      "cell_type": "markdown",
      "source": [
        "isoformat คือ format มาตรฐานที่นิยมใช้ใน timestamp ที่เก็บไว้บน database / data warehouse"
      ],
      "metadata": {
        "id": "ZbolqmUAJT25"
      }
    },
    {
      "cell_type": "code",
      "source": [
        "now.isoformat()"
      ],
      "metadata": {
        "colab": {
          "base_uri": "https://localhost:8080/",
          "height": 36
        },
        "id": "erYYAMIqJcaQ",
        "outputId": "2b866e61-e1cf-43b4-d396-6ff09c519ca8"
      },
      "execution_count": null,
      "outputs": [
        {
          "output_type": "execute_result",
          "data": {
            "text/plain": [
              "'2025-01-18T12:18:05.595970'"
            ],
            "application/vnd.google.colaboratory.intrinsic+json": {
              "type": "string"
            }
          },
          "metadata": {},
          "execution_count": 14
        }
      ]
    },
    {
      "cell_type": "markdown",
      "source": [
        "การเรียงดูวันที่วันปัจจุบัน"
      ],
      "metadata": {
        "id": "NhB7b_w_Jt2_"
      }
    },
    {
      "cell_type": "code",
      "source": [
        "today = datetime.date.today()\n",
        "\n",
        "today"
      ],
      "metadata": {
        "colab": {
          "base_uri": "https://localhost:8080/"
        },
        "id": "bdd_nzbeJxmH",
        "outputId": "a7a1bd27-9f71-4667-f02a-42fb371bec8d"
      },
      "execution_count": null,
      "outputs": [
        {
          "output_type": "execute_result",
          "data": {
            "text/plain": [
              "datetime.date(2025, 1, 7)"
            ]
          },
          "metadata": {},
          "execution_count": 7
        }
      ]
    },
    {
      "cell_type": "markdown",
      "source": [
        "รูปแบบมาตรฐานของ date คือ YYYY-MM-DD"
      ],
      "metadata": {
        "id": "BJRCkqyeJ6TQ"
      }
    },
    {
      "cell_type": "code",
      "source": [
        "today.isoformat()"
      ],
      "metadata": {
        "colab": {
          "base_uri": "https://localhost:8080/",
          "height": 36
        },
        "id": "K_Jyj3JRKByO",
        "outputId": "d861ac73-8970-4aa5-8084-61d2c87ac144"
      },
      "execution_count": null,
      "outputs": [
        {
          "output_type": "execute_result",
          "data": {
            "text/plain": [
              "'2025-01-07'"
            ],
            "application/vnd.google.colaboratory.intrinsic+json": {
              "type": "string"
            }
          },
          "metadata": {},
          "execution_count": 8
        }
      ]
    },
    {
      "cell_type": "markdown",
      "source": [
        "# Simple functions\n",
        "Function คือ การกำหนดการคำนวณที่ใช้ซ้ำบ่อย ๆ เพื่อให้เรียกใช้ได้สะดวก ในการเรียกใช้ Function ผู้ใช้ส่งตัวแปรเข้ามากี่ตัวก็ได้ (เรียกว่า argument หรือ parameter) เช่น height และ width และสามารถกำหนดค่าในกรณีที่ผู้ใช้ใส่ตัวแปรใน parameter มาไม่ครบ เรียกว่า default parameter (ในตัวอย่างเช่น rate ตัวแปรค่าเงินที่สามารถกำหนดค่า default ได้) การ returrn คือการ คืนค่าออกไปเพื่อเป็นผลลัพธ์ของ function\n",
        "\n",
        "parameter ของ function คือ ตัวแปรเข้าที่เปลี่ยนค่าได้"
      ],
      "metadata": {
        "id": "5cIiM0OPKXda"
      }
    },
    {
      "cell_type": "code",
      "source": [
        "def circle_area(radius):\n",
        "  return pi * radius * radius\n",
        "\n",
        "circle_area(4)"
      ],
      "metadata": {
        "id": "gVoUBpmoLI5d",
        "colab": {
          "base_uri": "https://localhost:8080/"
        },
        "outputId": "f3805b84-0362-4e70-f0db-3a23167b725e"
      },
      "execution_count": null,
      "outputs": [
        {
          "output_type": "execute_result",
          "data": {
            "text/plain": [
              "50.26548245743669"
            ]
          },
          "metadata": {},
          "execution_count": 10
        }
      ]
    },
    {
      "cell_type": "code",
      "source": [
        "def rectangle_area(width, height):\n",
        "  return width * height\n",
        "\n",
        "rectangle_area(4, 5)"
      ],
      "metadata": {
        "colab": {
          "base_uri": "https://localhost:8080/"
        },
        "id": "x4NDV-skLrVa",
        "outputId": "6873911b-bba1-4544-ddd9-f8ee1095357e"
      },
      "execution_count": null,
      "outputs": [
        {
          "output_type": "execute_result",
          "data": {
            "text/plain": [
              "20"
            ]
          },
          "metadata": {},
          "execution_count": 5
        }
      ]
    },
    {
      "cell_type": "markdown",
      "source": [
        "สร้างฟังก์ชั่นเพื่อแปลงค่าเงิน โดย rate จะมี default parameter อยู่ที่ 31.33"
      ],
      "metadata": {
        "id": "wc4VY_pML-LW"
      }
    },
    {
      "cell_type": "code",
      "source": [
        "def usd_to_thb(amount, rate):\n",
        "    return amount * rate\n",
        "\n",
        "result = usd_to_thb(30, 31.33)\n",
        "print(result)\n"
      ],
      "metadata": {
        "colab": {
          "base_uri": "https://localhost:8080/"
        },
        "id": "0eAooz1wMN3j",
        "outputId": "aa505e3b-aab4-4c0c-b3c7-bd57cd6abf1b"
      },
      "execution_count": null,
      "outputs": [
        {
          "output_type": "stream",
          "name": "stdout",
          "text": [
            "939.9\n"
          ]
        }
      ]
    },
    {
      "cell_type": "markdown",
      "source": [
        "แต่สามารถปรับเปลี่ยนค่า rate ได้เหมือนฟังก์ชั่นปกติ ถ้าเกิดมีการใส่ rate มา"
      ],
      "metadata": {
        "id": "NFyk3sZuMr5u"
      }
    },
    {
      "cell_type": "code",
      "source": [
        "conversion(30, 34.3333)"
      ],
      "metadata": {
        "colab": {
          "base_uri": "https://localhost:8080/"
        },
        "id": "oTdHm6n8M5Nq",
        "outputId": "df0db6e0-4a19-4271-e3f1-65ff813e9708"
      },
      "execution_count": null,
      "outputs": [
        {
          "output_type": "execute_result",
          "data": {
            "text/plain": [
              "1029.999"
            ]
          },
          "metadata": {},
          "execution_count": 20
        }
      ]
    },
    {
      "cell_type": "markdown",
      "source": [
        "# Working with files การทำงานร่วมกับไฟล์"
      ],
      "metadata": {
        "id": "jm05riYqNa7i"
      }
    },
    {
      "cell_type": "markdown",
      "source": [
        "# Write file การเขียนไฟล์\n",
        "\n",
        "การเขียนไฟล์ จะใช้คำสั่ง open เพื่อเปิดไฟล์ และเขียนไฟล์ลงไป\n",
        "\n",
        "\"w\" ข้างหลัง (write) คือ โหมดของการเปิดไฟล์แบบเขียน ซึ่งจะสร้างไฟล์ขึ้นมาเพื่อเขียน"
      ],
      "metadata": {
        "id": "B7sV_HK0NppZ"
      }
    },
    {
      "cell_type": "code",
      "source": [
        "file = open(\"output.csv\", \"w\")\n",
        "file.write(\"Date, Item, Price\\n\")\n",
        "file.write(\"2020-02-07, Mike, 26.5\\n\")\n",
        "file.write(\"2020-02-08, Water, 7\\n\")\n",
        "file.close()"
      ],
      "metadata": {
        "id": "weqczv_UOQhY"
      },
      "execution_count": null,
      "outputs": []
    },
    {
      "cell_type": "markdown",
      "source": [
        "การวนลูปเขียนไฟล์ จาก list ของ tuple"
      ],
      "metadata": {
        "id": "Gs6kIo9kO1Ue"
      }
    },
    {
      "cell_type": "code",
      "source": [
        "header = [\"Date\", \"Item\", \"Price\"]\n",
        "\", \".join(header) + \"\\n\""
      ],
      "metadata": {
        "colab": {
          "base_uri": "https://localhost:8080/",
          "height": 36
        },
        "id": "E5SuPEcOO9UC",
        "outputId": "75bd9602-a61c-4444-c9c7-0ce7c54772c9"
      },
      "execution_count": null,
      "outputs": [
        {
          "output_type": "execute_result",
          "data": {
            "text/plain": [
              "'Date,Item,Price\\n'"
            ],
            "application/vnd.google.colaboratory.intrinsic+json": {
              "type": "string"
            }
          },
          "metadata": {},
          "execution_count": 20
        }
      ]
    },
    {
      "cell_type": "code",
      "source": [
        "header = (\"Date\", \"Item\", \"Price\")\n",
        "content = [\n",
        "    (\"2020-02-07\", \"Mike\", \"26.5\"),\n",
        "    (\"2020-02-08\", \"Water\", \"7\"),\n",
        "    (\"2020-02-08\", \"Mask\", \"20\"),\n",
        "    (\"2020-02-08\", \"Lays\", \"10\"),\n",
        "    (\"2020-02-08\", \"Rice\", \"6\")\n",
        "]\n",
        "\n",
        "file = open(\"Products.csv\", \"w\")\n",
        "file.write(\",\".join(header) + \"\\n\")\n",
        "\n",
        "for row in content:\n",
        "  file.write(\",\".join(row) + \"\\n\")\n",
        "\n",
        "file.close()"
      ],
      "metadata": {
        "id": "jSzOuFGrPPEW"
      },
      "execution_count": null,
      "outputs": []
    },
    {
      "cell_type": "markdown",
      "source": [
        "การอ่านไฟล์"
      ],
      "metadata": {
        "id": "Q5-GQ_X1RdcR"
      }
    },
    {
      "cell_type": "code",
      "source": [
        "with open(\"Products.csv\", \"r\") as f:\n",
        "  Product = f.readlines()\n",
        "\n",
        "Product"
      ],
      "metadata": {
        "colab": {
          "base_uri": "https://localhost:8080/"
        },
        "id": "84XwxBkBRfXM",
        "outputId": "e193ddd3-4639-4ef0-dcbd-c0f067c36c77"
      },
      "execution_count": null,
      "outputs": [
        {
          "output_type": "execute_result",
          "data": {
            "text/plain": [
              "['Date,Item,Price\\n',\n",
              " '2020-02-07,Mike,26.5\\n',\n",
              " '2020-02-08,Water,7\\n',\n",
              " '2020-02-08,Mask,20\\n',\n",
              " '2020-02-08,Lays,10\\n',\n",
              " '2020-02-08,Rice,6\\n']"
            ]
          },
          "metadata": {},
          "execution_count": 44
        }
      ]
    },
    {
      "cell_type": "code",
      "source": [
        "len(Product)"
      ],
      "metadata": {
        "colab": {
          "base_uri": "https://localhost:8080/"
        },
        "id": "WNynAuuCTs4X",
        "outputId": "4ba89bb9-de9f-4e70-fd33-c0dbb6ea96f8"
      },
      "execution_count": null,
      "outputs": [
        {
          "output_type": "execute_result",
          "data": {
            "text/plain": [
              "6"
            ]
          },
          "metadata": {},
          "execution_count": 45
        }
      ]
    },
    {
      "cell_type": "markdown",
      "source": [
        "# Use Pandas to Read/Write file\n",
        "\n",
        "การอ่านไฟล์ CSV ด้วย Pandas (3rd party package) สำหรับการอ่านและประมวลผลไฟล์ของตาราง DataFrame\n",
        "\n",
        "Pandas เป็นที่นิยมใช้ในสาย data มาก เพราะสามารถช่วยให้วิเคราห์และใช้งาน data ที่เป็น table ใน Python ได้ง่ายขึ้น เนื่องจากเป็น package ที่ python ไม่มี จึงต่อ import ก่อนด้วย\n",
        "\n",
        "    import pandas as pd\n",
        "\n",
        "(Google colab ได้ install pandas ไว้อัตโนมัติอยู่แล้ว เพราะเป็น package ยอดนิยม)"
      ],
      "metadata": {
        "id": "keO49kw2Txl7"
      }
    },
    {
      "cell_type": "code",
      "source": [
        "import pandas as pd\n",
        "\n",
        "df = pd.read_csv(\"sample_data/california_housing_test.csv\")\n",
        "df"
      ],
      "metadata": {
        "colab": {
          "base_uri": "https://localhost:8080/",
          "height": 423
        },
        "id": "A2T2ya0yT7o8",
        "outputId": "77d91b78-a84c-45c7-d8d7-8a81bfeaf405"
      },
      "execution_count": null,
      "outputs": [
        {
          "output_type": "execute_result",
          "data": {
            "text/plain": [
              "      longitude  latitude  housing_median_age  total_rooms  total_bedrooms  \\\n",
              "0       -122.05     37.37                27.0       3885.0           661.0   \n",
              "1       -118.30     34.26                43.0       1510.0           310.0   \n",
              "2       -117.81     33.78                27.0       3589.0           507.0   \n",
              "3       -118.36     33.82                28.0         67.0            15.0   \n",
              "4       -119.67     36.33                19.0       1241.0           244.0   \n",
              "...         ...       ...                 ...          ...             ...   \n",
              "2995    -119.86     34.42                23.0       1450.0           642.0   \n",
              "2996    -118.14     34.06                27.0       5257.0          1082.0   \n",
              "2997    -119.70     36.30                10.0        956.0           201.0   \n",
              "2998    -117.12     34.10                40.0         96.0            14.0   \n",
              "2999    -119.63     34.42                42.0       1765.0           263.0   \n",
              "\n",
              "      population  households  median_income  median_house_value  \n",
              "0         1537.0       606.0         6.6085            344700.0  \n",
              "1          809.0       277.0         3.5990            176500.0  \n",
              "2         1484.0       495.0         5.7934            270500.0  \n",
              "3           49.0        11.0         6.1359            330000.0  \n",
              "4          850.0       237.0         2.9375             81700.0  \n",
              "...          ...         ...            ...                 ...  \n",
              "2995      1258.0       607.0         1.1790            225000.0  \n",
              "2996      3496.0      1036.0         3.3906            237200.0  \n",
              "2997       693.0       220.0         2.2895             62000.0  \n",
              "2998        46.0        14.0         3.2708            162500.0  \n",
              "2999       753.0       260.0         8.5608            500001.0  \n",
              "\n",
              "[3000 rows x 9 columns]"
            ],
            "text/html": [
              "\n",
              "  <div id=\"df-89d1db21-4f3a-42b0-a9b5-51c8def585a5\" class=\"colab-df-container\">\n",
              "    <div>\n",
              "<style scoped>\n",
              "    .dataframe tbody tr th:only-of-type {\n",
              "        vertical-align: middle;\n",
              "    }\n",
              "\n",
              "    .dataframe tbody tr th {\n",
              "        vertical-align: top;\n",
              "    }\n",
              "\n",
              "    .dataframe thead th {\n",
              "        text-align: right;\n",
              "    }\n",
              "</style>\n",
              "<table border=\"1\" class=\"dataframe\">\n",
              "  <thead>\n",
              "    <tr style=\"text-align: right;\">\n",
              "      <th></th>\n",
              "      <th>longitude</th>\n",
              "      <th>latitude</th>\n",
              "      <th>housing_median_age</th>\n",
              "      <th>total_rooms</th>\n",
              "      <th>total_bedrooms</th>\n",
              "      <th>population</th>\n",
              "      <th>households</th>\n",
              "      <th>median_income</th>\n",
              "      <th>median_house_value</th>\n",
              "    </tr>\n",
              "  </thead>\n",
              "  <tbody>\n",
              "    <tr>\n",
              "      <th>0</th>\n",
              "      <td>-122.05</td>\n",
              "      <td>37.37</td>\n",
              "      <td>27.0</td>\n",
              "      <td>3885.0</td>\n",
              "      <td>661.0</td>\n",
              "      <td>1537.0</td>\n",
              "      <td>606.0</td>\n",
              "      <td>6.6085</td>\n",
              "      <td>344700.0</td>\n",
              "    </tr>\n",
              "    <tr>\n",
              "      <th>1</th>\n",
              "      <td>-118.30</td>\n",
              "      <td>34.26</td>\n",
              "      <td>43.0</td>\n",
              "      <td>1510.0</td>\n",
              "      <td>310.0</td>\n",
              "      <td>809.0</td>\n",
              "      <td>277.0</td>\n",
              "      <td>3.5990</td>\n",
              "      <td>176500.0</td>\n",
              "    </tr>\n",
              "    <tr>\n",
              "      <th>2</th>\n",
              "      <td>-117.81</td>\n",
              "      <td>33.78</td>\n",
              "      <td>27.0</td>\n",
              "      <td>3589.0</td>\n",
              "      <td>507.0</td>\n",
              "      <td>1484.0</td>\n",
              "      <td>495.0</td>\n",
              "      <td>5.7934</td>\n",
              "      <td>270500.0</td>\n",
              "    </tr>\n",
              "    <tr>\n",
              "      <th>3</th>\n",
              "      <td>-118.36</td>\n",
              "      <td>33.82</td>\n",
              "      <td>28.0</td>\n",
              "      <td>67.0</td>\n",
              "      <td>15.0</td>\n",
              "      <td>49.0</td>\n",
              "      <td>11.0</td>\n",
              "      <td>6.1359</td>\n",
              "      <td>330000.0</td>\n",
              "    </tr>\n",
              "    <tr>\n",
              "      <th>4</th>\n",
              "      <td>-119.67</td>\n",
              "      <td>36.33</td>\n",
              "      <td>19.0</td>\n",
              "      <td>1241.0</td>\n",
              "      <td>244.0</td>\n",
              "      <td>850.0</td>\n",
              "      <td>237.0</td>\n",
              "      <td>2.9375</td>\n",
              "      <td>81700.0</td>\n",
              "    </tr>\n",
              "    <tr>\n",
              "      <th>...</th>\n",
              "      <td>...</td>\n",
              "      <td>...</td>\n",
              "      <td>...</td>\n",
              "      <td>...</td>\n",
              "      <td>...</td>\n",
              "      <td>...</td>\n",
              "      <td>...</td>\n",
              "      <td>...</td>\n",
              "      <td>...</td>\n",
              "    </tr>\n",
              "    <tr>\n",
              "      <th>2995</th>\n",
              "      <td>-119.86</td>\n",
              "      <td>34.42</td>\n",
              "      <td>23.0</td>\n",
              "      <td>1450.0</td>\n",
              "      <td>642.0</td>\n",
              "      <td>1258.0</td>\n",
              "      <td>607.0</td>\n",
              "      <td>1.1790</td>\n",
              "      <td>225000.0</td>\n",
              "    </tr>\n",
              "    <tr>\n",
              "      <th>2996</th>\n",
              "      <td>-118.14</td>\n",
              "      <td>34.06</td>\n",
              "      <td>27.0</td>\n",
              "      <td>5257.0</td>\n",
              "      <td>1082.0</td>\n",
              "      <td>3496.0</td>\n",
              "      <td>1036.0</td>\n",
              "      <td>3.3906</td>\n",
              "      <td>237200.0</td>\n",
              "    </tr>\n",
              "    <tr>\n",
              "      <th>2997</th>\n",
              "      <td>-119.70</td>\n",
              "      <td>36.30</td>\n",
              "      <td>10.0</td>\n",
              "      <td>956.0</td>\n",
              "      <td>201.0</td>\n",
              "      <td>693.0</td>\n",
              "      <td>220.0</td>\n",
              "      <td>2.2895</td>\n",
              "      <td>62000.0</td>\n",
              "    </tr>\n",
              "    <tr>\n",
              "      <th>2998</th>\n",
              "      <td>-117.12</td>\n",
              "      <td>34.10</td>\n",
              "      <td>40.0</td>\n",
              "      <td>96.0</td>\n",
              "      <td>14.0</td>\n",
              "      <td>46.0</td>\n",
              "      <td>14.0</td>\n",
              "      <td>3.2708</td>\n",
              "      <td>162500.0</td>\n",
              "    </tr>\n",
              "    <tr>\n",
              "      <th>2999</th>\n",
              "      <td>-119.63</td>\n",
              "      <td>34.42</td>\n",
              "      <td>42.0</td>\n",
              "      <td>1765.0</td>\n",
              "      <td>263.0</td>\n",
              "      <td>753.0</td>\n",
              "      <td>260.0</td>\n",
              "      <td>8.5608</td>\n",
              "      <td>500001.0</td>\n",
              "    </tr>\n",
              "  </tbody>\n",
              "</table>\n",
              "<p>3000 rows × 9 columns</p>\n",
              "</div>\n",
              "    <div class=\"colab-df-buttons\">\n",
              "\n",
              "  <div class=\"colab-df-container\">\n",
              "    <button class=\"colab-df-convert\" onclick=\"convertToInteractive('df-89d1db21-4f3a-42b0-a9b5-51c8def585a5')\"\n",
              "            title=\"Convert this dataframe to an interactive table.\"\n",
              "            style=\"display:none;\">\n",
              "\n",
              "  <svg xmlns=\"http://www.w3.org/2000/svg\" height=\"24px\" viewBox=\"0 -960 960 960\">\n",
              "    <path d=\"M120-120v-720h720v720H120Zm60-500h600v-160H180v160Zm220 220h160v-160H400v160Zm0 220h160v-160H400v160ZM180-400h160v-160H180v160Zm440 0h160v-160H620v160ZM180-180h160v-160H180v160Zm440 0h160v-160H620v160Z\"/>\n",
              "  </svg>\n",
              "    </button>\n",
              "\n",
              "  <style>\n",
              "    .colab-df-container {\n",
              "      display:flex;\n",
              "      gap: 12px;\n",
              "    }\n",
              "\n",
              "    .colab-df-convert {\n",
              "      background-color: #E8F0FE;\n",
              "      border: none;\n",
              "      border-radius: 50%;\n",
              "      cursor: pointer;\n",
              "      display: none;\n",
              "      fill: #1967D2;\n",
              "      height: 32px;\n",
              "      padding: 0 0 0 0;\n",
              "      width: 32px;\n",
              "    }\n",
              "\n",
              "    .colab-df-convert:hover {\n",
              "      background-color: #E2EBFA;\n",
              "      box-shadow: 0px 1px 2px rgba(60, 64, 67, 0.3), 0px 1px 3px 1px rgba(60, 64, 67, 0.15);\n",
              "      fill: #174EA6;\n",
              "    }\n",
              "\n",
              "    .colab-df-buttons div {\n",
              "      margin-bottom: 4px;\n",
              "    }\n",
              "\n",
              "    [theme=dark] .colab-df-convert {\n",
              "      background-color: #3B4455;\n",
              "      fill: #D2E3FC;\n",
              "    }\n",
              "\n",
              "    [theme=dark] .colab-df-convert:hover {\n",
              "      background-color: #434B5C;\n",
              "      box-shadow: 0px 1px 3px 1px rgba(0, 0, 0, 0.15);\n",
              "      filter: drop-shadow(0px 1px 2px rgba(0, 0, 0, 0.3));\n",
              "      fill: #FFFFFF;\n",
              "    }\n",
              "  </style>\n",
              "\n",
              "    <script>\n",
              "      const buttonEl =\n",
              "        document.querySelector('#df-89d1db21-4f3a-42b0-a9b5-51c8def585a5 button.colab-df-convert');\n",
              "      buttonEl.style.display =\n",
              "        google.colab.kernel.accessAllowed ? 'block' : 'none';\n",
              "\n",
              "      async function convertToInteractive(key) {\n",
              "        const element = document.querySelector('#df-89d1db21-4f3a-42b0-a9b5-51c8def585a5');\n",
              "        const dataTable =\n",
              "          await google.colab.kernel.invokeFunction('convertToInteractive',\n",
              "                                                    [key], {});\n",
              "        if (!dataTable) return;\n",
              "\n",
              "        const docLinkHtml = 'Like what you see? Visit the ' +\n",
              "          '<a target=\"_blank\" href=https://colab.research.google.com/notebooks/data_table.ipynb>data table notebook</a>'\n",
              "          + ' to learn more about interactive tables.';\n",
              "        element.innerHTML = '';\n",
              "        dataTable['output_type'] = 'display_data';\n",
              "        await google.colab.output.renderOutput(dataTable, element);\n",
              "        const docLink = document.createElement('div');\n",
              "        docLink.innerHTML = docLinkHtml;\n",
              "        element.appendChild(docLink);\n",
              "      }\n",
              "    </script>\n",
              "  </div>\n",
              "\n",
              "\n",
              "<div id=\"df-bab88295-dbb9-490a-8637-1535a2005f96\">\n",
              "  <button class=\"colab-df-quickchart\" onclick=\"quickchart('df-bab88295-dbb9-490a-8637-1535a2005f96')\"\n",
              "            title=\"Suggest charts\"\n",
              "            style=\"display:none;\">\n",
              "\n",
              "<svg xmlns=\"http://www.w3.org/2000/svg\" height=\"24px\"viewBox=\"0 0 24 24\"\n",
              "     width=\"24px\">\n",
              "    <g>\n",
              "        <path d=\"M19 3H5c-1.1 0-2 .9-2 2v14c0 1.1.9 2 2 2h14c1.1 0 2-.9 2-2V5c0-1.1-.9-2-2-2zM9 17H7v-7h2v7zm4 0h-2V7h2v10zm4 0h-2v-4h2v4z\"/>\n",
              "    </g>\n",
              "</svg>\n",
              "  </button>\n",
              "\n",
              "<style>\n",
              "  .colab-df-quickchart {\n",
              "      --bg-color: #E8F0FE;\n",
              "      --fill-color: #1967D2;\n",
              "      --hover-bg-color: #E2EBFA;\n",
              "      --hover-fill-color: #174EA6;\n",
              "      --disabled-fill-color: #AAA;\n",
              "      --disabled-bg-color: #DDD;\n",
              "  }\n",
              "\n",
              "  [theme=dark] .colab-df-quickchart {\n",
              "      --bg-color: #3B4455;\n",
              "      --fill-color: #D2E3FC;\n",
              "      --hover-bg-color: #434B5C;\n",
              "      --hover-fill-color: #FFFFFF;\n",
              "      --disabled-bg-color: #3B4455;\n",
              "      --disabled-fill-color: #666;\n",
              "  }\n",
              "\n",
              "  .colab-df-quickchart {\n",
              "    background-color: var(--bg-color);\n",
              "    border: none;\n",
              "    border-radius: 50%;\n",
              "    cursor: pointer;\n",
              "    display: none;\n",
              "    fill: var(--fill-color);\n",
              "    height: 32px;\n",
              "    padding: 0;\n",
              "    width: 32px;\n",
              "  }\n",
              "\n",
              "  .colab-df-quickchart:hover {\n",
              "    background-color: var(--hover-bg-color);\n",
              "    box-shadow: 0 1px 2px rgba(60, 64, 67, 0.3), 0 1px 3px 1px rgba(60, 64, 67, 0.15);\n",
              "    fill: var(--button-hover-fill-color);\n",
              "  }\n",
              "\n",
              "  .colab-df-quickchart-complete:disabled,\n",
              "  .colab-df-quickchart-complete:disabled:hover {\n",
              "    background-color: var(--disabled-bg-color);\n",
              "    fill: var(--disabled-fill-color);\n",
              "    box-shadow: none;\n",
              "  }\n",
              "\n",
              "  .colab-df-spinner {\n",
              "    border: 2px solid var(--fill-color);\n",
              "    border-color: transparent;\n",
              "    border-bottom-color: var(--fill-color);\n",
              "    animation:\n",
              "      spin 1s steps(1) infinite;\n",
              "  }\n",
              "\n",
              "  @keyframes spin {\n",
              "    0% {\n",
              "      border-color: transparent;\n",
              "      border-bottom-color: var(--fill-color);\n",
              "      border-left-color: var(--fill-color);\n",
              "    }\n",
              "    20% {\n",
              "      border-color: transparent;\n",
              "      border-left-color: var(--fill-color);\n",
              "      border-top-color: var(--fill-color);\n",
              "    }\n",
              "    30% {\n",
              "      border-color: transparent;\n",
              "      border-left-color: var(--fill-color);\n",
              "      border-top-color: var(--fill-color);\n",
              "      border-right-color: var(--fill-color);\n",
              "    }\n",
              "    40% {\n",
              "      border-color: transparent;\n",
              "      border-right-color: var(--fill-color);\n",
              "      border-top-color: var(--fill-color);\n",
              "    }\n",
              "    60% {\n",
              "      border-color: transparent;\n",
              "      border-right-color: var(--fill-color);\n",
              "    }\n",
              "    80% {\n",
              "      border-color: transparent;\n",
              "      border-right-color: var(--fill-color);\n",
              "      border-bottom-color: var(--fill-color);\n",
              "    }\n",
              "    90% {\n",
              "      border-color: transparent;\n",
              "      border-bottom-color: var(--fill-color);\n",
              "    }\n",
              "  }\n",
              "</style>\n",
              "\n",
              "  <script>\n",
              "    async function quickchart(key) {\n",
              "      const quickchartButtonEl =\n",
              "        document.querySelector('#' + key + ' button');\n",
              "      quickchartButtonEl.disabled = true;  // To prevent multiple clicks.\n",
              "      quickchartButtonEl.classList.add('colab-df-spinner');\n",
              "      try {\n",
              "        const charts = await google.colab.kernel.invokeFunction(\n",
              "            'suggestCharts', [key], {});\n",
              "      } catch (error) {\n",
              "        console.error('Error during call to suggestCharts:', error);\n",
              "      }\n",
              "      quickchartButtonEl.classList.remove('colab-df-spinner');\n",
              "      quickchartButtonEl.classList.add('colab-df-quickchart-complete');\n",
              "    }\n",
              "    (() => {\n",
              "      let quickchartButtonEl =\n",
              "        document.querySelector('#df-bab88295-dbb9-490a-8637-1535a2005f96 button');\n",
              "      quickchartButtonEl.style.display =\n",
              "        google.colab.kernel.accessAllowed ? 'block' : 'none';\n",
              "    })();\n",
              "  </script>\n",
              "</div>\n",
              "\n",
              "  <div id=\"id_abea768c-9015-40b8-9fab-3655031d2210\">\n",
              "    <style>\n",
              "      .colab-df-generate {\n",
              "        background-color: #E8F0FE;\n",
              "        border: none;\n",
              "        border-radius: 50%;\n",
              "        cursor: pointer;\n",
              "        display: none;\n",
              "        fill: #1967D2;\n",
              "        height: 32px;\n",
              "        padding: 0 0 0 0;\n",
              "        width: 32px;\n",
              "      }\n",
              "\n",
              "      .colab-df-generate:hover {\n",
              "        background-color: #E2EBFA;\n",
              "        box-shadow: 0px 1px 2px rgba(60, 64, 67, 0.3), 0px 1px 3px 1px rgba(60, 64, 67, 0.15);\n",
              "        fill: #174EA6;\n",
              "      }\n",
              "\n",
              "      [theme=dark] .colab-df-generate {\n",
              "        background-color: #3B4455;\n",
              "        fill: #D2E3FC;\n",
              "      }\n",
              "\n",
              "      [theme=dark] .colab-df-generate:hover {\n",
              "        background-color: #434B5C;\n",
              "        box-shadow: 0px 1px 3px 1px rgba(0, 0, 0, 0.15);\n",
              "        filter: drop-shadow(0px 1px 2px rgba(0, 0, 0, 0.3));\n",
              "        fill: #FFFFFF;\n",
              "      }\n",
              "    </style>\n",
              "    <button class=\"colab-df-generate\" onclick=\"generateWithVariable('df')\"\n",
              "            title=\"Generate code using this dataframe.\"\n",
              "            style=\"display:none;\">\n",
              "\n",
              "  <svg xmlns=\"http://www.w3.org/2000/svg\" height=\"24px\"viewBox=\"0 0 24 24\"\n",
              "       width=\"24px\">\n",
              "    <path d=\"M7,19H8.4L18.45,9,17,7.55,7,17.6ZM5,21V16.75L18.45,3.32a2,2,0,0,1,2.83,0l1.4,1.43a1.91,1.91,0,0,1,.58,1.4,1.91,1.91,0,0,1-.58,1.4L9.25,21ZM18.45,9,17,7.55Zm-12,3A5.31,5.31,0,0,0,4.9,8.1,5.31,5.31,0,0,0,1,6.5,5.31,5.31,0,0,0,4.9,4.9,5.31,5.31,0,0,0,6.5,1,5.31,5.31,0,0,0,8.1,4.9,5.31,5.31,0,0,0,12,6.5,5.46,5.46,0,0,0,6.5,12Z\"/>\n",
              "  </svg>\n",
              "    </button>\n",
              "    <script>\n",
              "      (() => {\n",
              "      const buttonEl =\n",
              "        document.querySelector('#id_abea768c-9015-40b8-9fab-3655031d2210 button.colab-df-generate');\n",
              "      buttonEl.style.display =\n",
              "        google.colab.kernel.accessAllowed ? 'block' : 'none';\n",
              "\n",
              "      buttonEl.onclick = () => {\n",
              "        google.colab.notebook.generateWithVariable('df');\n",
              "      }\n",
              "      })();\n",
              "    </script>\n",
              "  </div>\n",
              "\n",
              "    </div>\n",
              "  </div>\n"
            ],
            "application/vnd.google.colaboratory.intrinsic+json": {
              "type": "dataframe",
              "variable_name": "df",
              "summary": "{\n  \"name\": \"df\",\n  \"rows\": 3000,\n  \"fields\": [\n    {\n      \"column\": \"longitude\",\n      \"properties\": {\n        \"dtype\": \"number\",\n        \"std\": 1.9949362939550161,\n        \"min\": -124.18,\n        \"max\": -114.49,\n        \"num_unique_values\": 607,\n        \"samples\": [\n          -121.15,\n          -121.46,\n          -121.02\n        ],\n        \"semantic_type\": \"\",\n        \"description\": \"\"\n      }\n    },\n    {\n      \"column\": \"latitude\",\n      \"properties\": {\n        \"dtype\": \"number\",\n        \"std\": 2.1296695233438325,\n        \"min\": 32.56,\n        \"max\": 41.92,\n        \"num_unique_values\": 587,\n        \"samples\": [\n          40.17,\n          33.69,\n          39.61\n        ],\n        \"semantic_type\": \"\",\n        \"description\": \"\"\n      }\n    },\n    {\n      \"column\": \"housing_median_age\",\n      \"properties\": {\n        \"dtype\": \"number\",\n        \"std\": 12.555395554955755,\n        \"min\": 1.0,\n        \"max\": 52.0,\n        \"num_unique_values\": 52,\n        \"samples\": [\n          14.0,\n          49.0,\n          7.0\n        ],\n        \"semantic_type\": \"\",\n        \"description\": \"\"\n      }\n    },\n    {\n      \"column\": \"total_rooms\",\n      \"properties\": {\n        \"dtype\": \"number\",\n        \"std\": 2155.59333162558,\n        \"min\": 6.0,\n        \"max\": 30450.0,\n        \"num_unique_values\": 2215,\n        \"samples\": [\n          1961.0,\n          1807.0,\n          680.0\n        ],\n        \"semantic_type\": \"\",\n        \"description\": \"\"\n      }\n    },\n    {\n      \"column\": \"total_bedrooms\",\n      \"properties\": {\n        \"dtype\": \"number\",\n        \"std\": 415.6543681363232,\n        \"min\": 2.0,\n        \"max\": 5419.0,\n        \"num_unique_values\": 1055,\n        \"samples\": [\n          532.0,\n          764.0,\n          2162.0\n        ],\n        \"semantic_type\": \"\",\n        \"description\": \"\"\n      }\n    },\n    {\n      \"column\": \"population\",\n      \"properties\": {\n        \"dtype\": \"number\",\n        \"std\": 1030.5430124122422,\n        \"min\": 5.0,\n        \"max\": 11935.0,\n        \"num_unique_values\": 1802,\n        \"samples\": [\n          947.0,\n          1140.0,\n          2019.0\n        ],\n        \"semantic_type\": \"\",\n        \"description\": \"\"\n      }\n    },\n    {\n      \"column\": \"households\",\n      \"properties\": {\n        \"dtype\": \"number\",\n        \"std\": 365.42270980552604,\n        \"min\": 2.0,\n        \"max\": 4930.0,\n        \"num_unique_values\": 1026,\n        \"samples\": [\n          646.0,\n          629.0,\n          504.0\n        ],\n        \"semantic_type\": \"\",\n        \"description\": \"\"\n      }\n    },\n    {\n      \"column\": \"median_income\",\n      \"properties\": {\n        \"dtype\": \"number\",\n        \"std\": 1.854511729691481,\n        \"min\": 0.4999,\n        \"max\": 15.0001,\n        \"num_unique_values\": 2578,\n        \"samples\": [\n          1.725,\n          0.7403,\n          2.6964\n        ],\n        \"semantic_type\": \"\",\n        \"description\": \"\"\n      }\n    },\n    {\n      \"column\": \"median_house_value\",\n      \"properties\": {\n        \"dtype\": \"number\",\n        \"std\": 113119.68746964433,\n        \"min\": 22500.0,\n        \"max\": 500001.0,\n        \"num_unique_values\": 1784,\n        \"samples\": [\n          71900.0,\n          63000.0,\n          115800.0\n        ],\n        \"semantic_type\": \"\",\n        \"description\": \"\"\n      }\n    }\n  ]\n}"
            }
          },
          "metadata": {},
          "execution_count": 46
        }
      ]
    },
    {
      "cell_type": "markdown",
      "source": [
        "เซฟไฟล์ CSV จาก DataFrame"
      ],
      "metadata": {
        "id": "WNghBdrAUVf3"
      }
    },
    {
      "cell_type": "code",
      "source": [
        "df.to_csv(\"new_data.csv\")"
      ],
      "metadata": {
        "id": "h_2w1K_tUfKQ"
      },
      "execution_count": null,
      "outputs": []
    },
    {
      "cell_type": "markdown",
      "source": [
        "# JSON"
      ],
      "metadata": {
        "id": "9-T2WMnsUxz4"
      }
    },
    {
      "cell_type": "markdown",
      "source": [
        "ดับเบิ้ลคลิก (หรือกด Enter) เพื่อแก้ไข\n",
        "\n",
        "JSON dump = export JSON"
      ],
      "metadata": {
        "id": "xnHdzJnEU1Ok"
      }
    },
    {
      "cell_type": "code",
      "source": [
        "grade"
      ],
      "metadata": {
        "colab": {
          "base_uri": "https://localhost:8080/"
        },
        "id": "usezPS6iVP2R",
        "outputId": "aaa8c369-11b7-4680-f21d-ab2e8223fc4a"
      },
      "execution_count": null,
      "outputs": [
        {
          "output_type": "execute_result",
          "data": {
            "text/plain": [
              "{'A': 80, 'B': 70, 'C': 60, 'D': 50, 'B+': 75}"
            ]
          },
          "metadata": {},
          "execution_count": 105
        }
      ]
    },
    {
      "cell_type": "code",
      "source": [
        "import json\n",
        "\n",
        "json.dumps(grade)"
      ],
      "metadata": {
        "colab": {
          "base_uri": "https://localhost:8080/",
          "height": 36
        },
        "id": "ocRzRniRV80X",
        "outputId": "bfae6797-7c68-44c5-84b2-c123b408e8c3"
      },
      "execution_count": null,
      "outputs": [
        {
          "output_type": "execute_result",
          "data": {
            "text/plain": [
              "'{\"A\": 80, \"B\": 70, \"C\": 60, \"D\": 50, \"B+\": 75}'"
            ],
            "application/vnd.google.colaboratory.intrinsic+json": {
              "type": "string"
            }
          },
          "metadata": {},
          "execution_count": 106
        }
      ]
    },
    {
      "cell_type": "code",
      "source": [
        "type(json.dumps(grade))"
      ],
      "metadata": {
        "colab": {
          "base_uri": "https://localhost:8080/"
        },
        "id": "x1ukmv26WFhb",
        "outputId": "0775a6c2-90f0-4eec-a029-a317fe9cf429"
      },
      "execution_count": null,
      "outputs": [
        {
          "output_type": "execute_result",
          "data": {
            "text/plain": [
              "str"
            ]
          },
          "metadata": {},
          "execution_count": 107
        }
      ]
    },
    {
      "cell_type": "code",
      "source": [
        "# Save to output file grade.json\n",
        "json.dump(grade, open(\"grade.json\", \"w\"))"
      ],
      "metadata": {
        "id": "JvjYTaYUWLky"
      },
      "execution_count": null,
      "outputs": []
    },
    {
      "cell_type": "markdown",
      "source": [
        "# JSON load = import JSON"
      ],
      "metadata": {
        "id": "gNhoIeAUWXsX"
      }
    },
    {
      "cell_type": "code",
      "source": [
        "students = json.loads('{\"student1\": \"John\", \"student2\": \"Mary\"}')\n",
        "students"
      ],
      "metadata": {
        "colab": {
          "base_uri": "https://localhost:8080/"
        },
        "id": "FSCuHkYWWhsn",
        "outputId": "abf294c8-7378-4282-f427-baf40ffb3272"
      },
      "execution_count": null,
      "outputs": [
        {
          "output_type": "execute_result",
          "data": {
            "text/plain": [
              "{'student1': 'John', 'student2': 'Mary'}"
            ]
          },
          "metadata": {},
          "execution_count": 110
        }
      ]
    },
    {
      "cell_type": "code",
      "source": [
        "type(students)"
      ],
      "metadata": {
        "colab": {
          "base_uri": "https://localhost:8080/"
        },
        "id": "BOgYHleeW52A",
        "outputId": "3c412e1f-959a-4ffd-fa62-8b03bfb69f26"
      },
      "execution_count": null,
      "outputs": [
        {
          "output_type": "execute_result",
          "data": {
            "text/plain": [
              "dict"
            ]
          },
          "metadata": {},
          "execution_count": 111
        }
      ]
    }
  ]
}